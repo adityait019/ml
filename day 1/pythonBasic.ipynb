{
 "cells": [
  {
   "cell_type": "code",
   "execution_count": 1,
   "metadata": {},
   "outputs": [],
   "source": [
    "name='Aditya'"
   ]
  },
  {
   "cell_type": "code",
   "execution_count": 2,
   "metadata": {},
   "outputs": [],
   "source": [
    "age=25"
   ]
  },
  {
   "cell_type": "code",
   "execution_count": 3,
   "metadata": {},
   "outputs": [],
   "source": [
    "height=5.3"
   ]
  },
  {
   "cell_type": "markdown",
   "metadata": {},
   "source": [
    "print(name,age,height)"
   ]
  },
  {
   "cell_type": "markdown",
   "metadata": {},
   "source": [
    "Lists and Tuples:"
   ]
  },
  {
   "cell_type": "code",
   "execution_count": 6,
   "metadata": {},
   "outputs": [],
   "source": [
    "fruits=['banana','mango','lichi','grapes','orange']"
   ]
  },
  {
   "cell_type": "code",
   "execution_count": 7,
   "metadata": {},
   "outputs": [
    {
     "name": "stdout",
     "output_type": "stream",
     "text": [
      "['mango', 'lichi']\n",
      "['banana', 'mango', 'lichi', 'grapes']\n",
      "['lichi', 'grapes', 'orange']\n",
      "['lichi', 'grapes', 'orange']\n",
      "['banana', 'mango', 'lichi']\n",
      "['mango', 'lichi', 'grapes']\n"
     ]
    }
   ],
   "source": [
    "#slicing the list\n",
    "print(fruits[1:3])\n",
    "print(fruits[:4])\n",
    "print(fruits[2:])\n",
    "print(fruits[-3:])\n",
    "print(fruits[:-2])\n",
    "print(fruits[-4:-1])"
   ]
  },
  {
   "cell_type": "markdown",
   "metadata": {},
   "source": []
  },
  {
   "cell_type": "code",
   "execution_count": null,
   "metadata": {},
   "outputs": [
    {
     "name": "stdout",
     "output_type": "stream",
     "text": [
      "['banana', 'apple', 'lichi', 'grapes', 'orange']\n"
     ]
    }
   ],
   "source": [
    "#changing the value of the list\n",
    "fruits[1]='apple'\n",
    "print(fruits)"
   ]
  },
  {
   "cell_type": "code",
   "execution_count": 9,
   "metadata": {},
   "outputs": [
    {
     "name": "stdout",
     "output_type": "stream",
     "text": [
      "['banana', 'apple', 'lichi', 'grapes', 'orange', 'kiwi']\n"
     ]
    }
   ],
   "source": [
    "#appending fruits name\n",
    "fruits.append('kiwi')\n",
    "print(fruits)"
   ]
  },
  {
   "cell_type": "code",
   "execution_count": 10,
   "metadata": {},
   "outputs": [
    {
     "name": "stdout",
     "output_type": "stream",
     "text": [
      "['banana', 'apple', 'papaya', 'lichi', 'grapes', 'orange', 'kiwi']\n"
     ]
    }
   ],
   "source": [
    "#insert method to add the element at the specific index\n",
    "fruits.insert(2,'papaya')\n",
    "print(fruits)"
   ]
  },
  {
   "cell_type": "code",
   "execution_count": 11,
   "metadata": {},
   "outputs": [
    {
     "name": "stdout",
     "output_type": "stream",
     "text": [
      "['banana', 'apple', 'papaya', 'lichi', 'grapes', 'kiwi']\n"
     ]
    }
   ],
   "source": [
    "#removing the element from the list\n",
    "fruits.remove('orange')\n",
    "print(fruits)"
   ]
  },
  {
   "cell_type": "code",
   "execution_count": 12,
   "metadata": {},
   "outputs": [
    {
     "name": "stdout",
     "output_type": "stream",
     "text": [
      "['banana', 'apple', 'papaya', 'lichi', 'kiwi']\n"
     ]
    }
   ],
   "source": [
    "#pop method to remove the element from the list\n",
    "fruits.pop(4)\n",
    "print(fruits)"
   ]
  },
  {
   "cell_type": "code",
   "execution_count": 13,
   "metadata": {},
   "outputs": [
    {
     "name": "stdout",
     "output_type": "stream",
     "text": [
      "['banana', 'papaya', 'lichi', 'kiwi']\n"
     ]
    }
   ],
   "source": [
    "#del keyword to remove the element from the list\n",
    "del fruits[1]\n",
    "print(fruits)"
   ]
  },
  {
   "cell_type": "code",
   "execution_count": 14,
   "metadata": {},
   "outputs": [
    {
     "ename": "NameError",
     "evalue": "name 'fruits' is not defined",
     "output_type": "error",
     "traceback": [
      "\u001b[0;31m---------------------------------------------------------------------------\u001b[0m",
      "\u001b[0;31mNameError\u001b[0m                                 Traceback (most recent call last)",
      "Cell \u001b[0;32mIn[14], line 2\u001b[0m\n\u001b[1;32m      1\u001b[0m \u001b[38;5;28;01mdel\u001b[39;00m fruits\n\u001b[0;32m----> 2\u001b[0m \u001b[38;5;28mprint\u001b[39m(\u001b[43mfruits\u001b[49m)\n",
      "\u001b[0;31mNameError\u001b[0m: name 'fruits' is not defined"
     ]
    }
   ],
   "source": [
    "del fruits\n",
    "print(fruits)"
   ]
  },
  {
   "cell_type": "code",
   "execution_count": 15,
   "metadata": {},
   "outputs": [
    {
     "name": "stdout",
     "output_type": "stream",
     "text": [
      "[]\n"
     ]
    }
   ],
   "source": [
    "fruits=['banana','mango','lichi','grapes','orange']\n",
    "#clear method to remove all the element from the list\n",
    "fruits.clear()\n",
    "print(fruits)"
   ]
  },
  {
   "cell_type": "code",
   "execution_count": 16,
   "metadata": {},
   "outputs": [
    {
     "name": "stdout",
     "output_type": "stream",
     "text": [
      "[0, 1, 4, 9, 16, 25, 36, 49, 64, 81]\n"
     ]
    }
   ],
   "source": [
    "squares=[x**2 for x in range(10)]\n",
    "print(squares)"
   ]
  },
  {
   "cell_type": "code",
   "execution_count": 17,
   "metadata": {},
   "outputs": [
    {
     "name": "stdout",
     "output_type": "stream",
     "text": [
      "['red', 'blue', 'green', 'yelllow', 'purple']\n"
     ]
    }
   ],
   "source": [
    "#create a List\n",
    "colors=['red','blue','green','yelllow','purple']\n",
    "print(colors)"
   ]
  },
  {
   "cell_type": "code",
   "execution_count": 18,
   "metadata": {},
   "outputs": [
    {
     "name": "stdout",
     "output_type": "stream",
     "text": [
      "red\n"
     ]
    }
   ],
   "source": [
    "#access list items:\n",
    "print(colors[0])"
   ]
  },
  {
   "cell_type": "code",
   "execution_count": 19,
   "metadata": {},
   "outputs": [
    {
     "name": "stdout",
     "output_type": "stream",
     "text": [
      "purple\n"
     ]
    }
   ],
   "source": [
    "print(colors[-1])"
   ]
  },
  {
   "cell_type": "code",
   "execution_count": 21,
   "metadata": {},
   "outputs": [
    {
     "name": "stdout",
     "output_type": "stream",
     "text": [
      "['red', 'blue', 'green']\n"
     ]
    }
   ],
   "source": [
    "#slicing a list\n",
    "print(colors[:3])"
   ]
  },
  {
   "cell_type": "code",
   "execution_count": 22,
   "metadata": {},
   "outputs": [
    {
     "name": "stdout",
     "output_type": "stream",
     "text": [
      "['yelllow', 'purple']\n"
     ]
    }
   ],
   "source": [
    "print(colors[-2:])"
   ]
  },
  {
   "cell_type": "code",
   "execution_count": 23,
   "metadata": {},
   "outputs": [
    {
     "name": "stdout",
     "output_type": "stream",
     "text": [
      "['red', 'blue', 'green', 'yelllow', 'purple']\n"
     ]
    }
   ],
   "source": [
    "print(colors)"
   ]
  },
  {
   "cell_type": "code",
   "execution_count": 24,
   "metadata": {},
   "outputs": [
    {
     "name": "stdout",
     "output_type": "stream",
     "text": [
      "['red', 'orange', 'green', 'yelllow', 'purple']\n"
     ]
    }
   ],
   "source": [
    "colors[1]='orange'\n",
    "print(colors)"
   ]
  },
  {
   "cell_type": "code",
   "execution_count": 25,
   "metadata": {},
   "outputs": [
    {
     "name": "stdout",
     "output_type": "stream",
     "text": [
      "['red', 'orange', 'green', 'yelllow', 'purple', 'pink']\n"
     ]
    }
   ],
   "source": [
    "colors.append('pink')\n",
    "print(colors)"
   ]
  },
  {
   "cell_type": "code",
   "execution_count": 26,
   "metadata": {},
   "outputs": [
    {
     "name": "stdout",
     "output_type": "stream",
     "text": [
      "['red', 'orange', 'black', 'green', 'yelllow', 'purple', 'pink']\n"
     ]
    }
   ],
   "source": [
    "colors.insert(2,'black')\n",
    "print(colors)"
   ]
  },
  {
   "cell_type": "code",
   "execution_count": 28,
   "metadata": {},
   "outputs": [
    {
     "name": "stdout",
     "output_type": "stream",
     "text": [
      "['red', 'orange', 'black', 'green', 'purple', 'pink']\n"
     ]
    }
   ],
   "source": [
    "colors.remove('yelllow')\n",
    "print(colors)"
   ]
  },
  {
   "cell_type": "code",
   "execution_count": 29,
   "metadata": {},
   "outputs": [
    {
     "name": "stdout",
     "output_type": "stream",
     "text": [
      "['red', 'orange', 'green', 'purple', 'pink']\n"
     ]
    }
   ],
   "source": [
    "colors.pop(2)\n",
    "print(colors)"
   ]
  },
  {
   "cell_type": "code",
   "execution_count": 31,
   "metadata": {},
   "outputs": [
    {
     "name": "stdout",
     "output_type": "stream",
     "text": [
      "[0, 1, 8, 27, 64, 125, 216, 343, 512, 729]\n"
     ]
    }
   ],
   "source": [
    "cubes=[x**3 for x in range(10)]\n",
    "print(cubes)"
   ]
  },
  {
   "cell_type": "code",
   "execution_count": 32,
   "metadata": {},
   "outputs": [
    {
     "name": "stdout",
     "output_type": "stream",
     "text": [
      "[8, 7, 6, 5, 3, 2]\n"
     ]
    }
   ],
   "source": [
    "numbers=[5,3,8,6,7,2]\n",
    "numbers.sort()\n",
    "numbers.reverse()\n",
    "print(numbers)"
   ]
  },
  {
   "cell_type": "markdown",
   "metadata": {},
   "source": [
    "Tuples\n",
    "    tuples are like a lists but immutable in nature ."
   ]
  },
  {
   "cell_type": "markdown",
   "metadata": {},
   "source": [
    "\n",
    "# dictionaries"
   ]
  },
  {
   "cell_type": "markdown",
   "metadata": {},
   "source": [
    "A dictionary is a collection which is unordered, changeable and indexed. \n",
    "In Python dictionaries are written with curly brackets, and they have keys and values.\n"
   ]
  },
  {
   "cell_type": "code",
   "execution_count": 33,
   "metadata": {},
   "outputs": [],
   "source": [
    "#creating dictionary\n",
    "person={\n",
    "    'name':'Aditya',\n",
    "    'age':25,\n",
    "    'height':5.3\n",
    "}"
   ]
  },
  {
   "cell_type": "code",
   "execution_count": 34,
   "metadata": {},
   "outputs": [
    {
     "name": "stdout",
     "output_type": "stream",
     "text": [
      "Aditya\n",
      "25\n",
      "5.3\n"
     ]
    }
   ],
   "source": [
    "#accessing the dictionary\n",
    "print(person['name'])\n",
    "print(person['age'])\n",
    "print(person['height'])"
   ]
  },
  {
   "cell_type": "code",
   "execution_count": 35,
   "metadata": {},
   "outputs": [
    {
     "data": {
      "text/plain": [
       "'Aditya'"
      ]
     },
     "execution_count": 35,
     "metadata": {},
     "output_type": "execute_result"
    }
   ],
   "source": [
    "person.get('name')"
   ]
  },
  {
   "cell_type": "code",
   "execution_count": 36,
   "metadata": {},
   "outputs": [
    {
     "name": "stdout",
     "output_type": "stream",
     "text": [
      "{'name': 'Rahul', 'age': 25, 'height': 5.3}\n"
     ]
    }
   ],
   "source": [
    "#changing the value of the dictionary\n",
    "person['name']='Rahul'\n",
    "print(person)"
   ]
  },
  {
   "cell_type": "code",
   "execution_count": 37,
   "metadata": {},
   "outputs": [
    {
     "name": "stdout",
     "output_type": "stream",
     "text": [
      "{'name': 'Rahul', 'age': 25, 'height': 5.3, 'city': 'Bangalore'}\n"
     ]
    }
   ],
   "source": [
    "#adding the new key value pair\n",
    "person['city']='Bangalore'\n",
    "print(person)"
   ]
  },
  {
   "cell_type": "code",
   "execution_count": 38,
   "metadata": {},
   "outputs": [
    {
     "name": "stdout",
     "output_type": "stream",
     "text": [
      "{'name': 'Rahul', 'height': 5.3, 'city': 'Bangalore'}\n"
     ]
    }
   ],
   "source": [
    "#pop mrthod to remove the key value pair\n",
    "person.pop('age')\n",
    "print(person)"
   ]
  },
  {
   "cell_type": "code",
   "execution_count": 39,
   "metadata": {},
   "outputs": [
    {
     "name": "stdout",
     "output_type": "stream",
     "text": [
      "{'name': 'Rahul', 'height': 5.3}\n"
     ]
    }
   ],
   "source": [
    "#popitem method to remove the last key value pair\n",
    "person.popitem()\n",
    "print(person)"
   ]
  },
  {
   "cell_type": "code",
   "execution_count": 40,
   "metadata": {},
   "outputs": [
    {
     "name": "stdout",
     "output_type": "stream",
     "text": [
      "{'height': 5.3}\n"
     ]
    }
   ],
   "source": [
    "# del keyword to remove the key value pair\n",
    "del person['name']\n",
    "print(person)"
   ]
  },
  {
   "cell_type": "code",
   "execution_count": 41,
   "metadata": {},
   "outputs": [
    {
     "name": "stdout",
     "output_type": "stream",
     "text": [
      "{}\n"
     ]
    }
   ],
   "source": [
    "#clear method to remove all the key value pair\n",
    "person.clear()\n",
    "print(person)"
   ]
  },
  {
   "cell_type": "code",
   "execution_count": 43,
   "metadata": {},
   "outputs": [
    {
     "name": "stdout",
     "output_type": "stream",
     "text": [
      "name\n",
      "age\n",
      "height\n",
      "Aditya\n",
      "25\n",
      "5.3\n"
     ]
    }
   ],
   "source": [
    "person ={\n",
    "    'name' : 'Aditya',\n",
    "    'age' : 25,\n",
    "    'height' : 5.3\n",
    "}\n",
    "#loop through the dictionary\n",
    "for key in person:\n",
    "    print(key)\n",
    "\n",
    "for value in person:\n",
    "    print(person[value])"
   ]
  }
 ],
 "metadata": {
  "kernelspec": {
   "display_name": "Python 3",
   "language": "python",
   "name": "python3"
  },
  "language_info": {
   "codemirror_mode": {
    "name": "ipython",
    "version": 3
   },
   "file_extension": ".py",
   "mimetype": "text/x-python",
   "name": "python",
   "nbconvert_exporter": "python",
   "pygments_lexer": "ipython3",
   "version": "3.13.2"
  }
 },
 "nbformat": 4,
 "nbformat_minor": 2
}
